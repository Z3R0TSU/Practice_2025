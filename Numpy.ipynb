{
 "cells": [
  {
   "cell_type": "code",
   "execution_count": 2,
   "id": "3a8d2df6",
   "metadata": {},
   "outputs": [],
   "source": [
    "import numpy as np"
   ]
  },
  {
   "cell_type": "code",
   "execution_count": 3,
   "id": "3eb8d37c",
   "metadata": {},
   "outputs": [
    {
     "data": {
      "text/plain": [
       "array([1, 2, 3])"
      ]
     },
     "execution_count": 3,
     "metadata": {},
     "output_type": "execute_result"
    }
   ],
   "source": [
    "a = np.array([1,2,3])\n",
    "a"
   ]
  },
  {
   "cell_type": "code",
   "execution_count": 4,
   "id": "3e5f8b51",
   "metadata": {},
   "outputs": [
    {
     "data": {
      "text/plain": [
       "array([7, 8, 9], dtype=int16)"
      ]
     },
     "execution_count": 4,
     "metadata": {},
     "output_type": "execute_result"
    }
   ],
   "source": [
    "c = np.array([7,8,9], dtype='int16')\n",
    "c"
   ]
  },
  {
   "cell_type": "code",
   "execution_count": 5,
   "id": "81217a40",
   "metadata": {},
   "outputs": [
    {
     "data": {
      "text/plain": [
       "array([[1., 2., 3.],\n",
       "       [4., 5., 6.]])"
      ]
     },
     "execution_count": 5,
     "metadata": {},
     "output_type": "execute_result"
    }
   ],
   "source": [
    "b = np.array([[1.0,2.0,3.0],[4.0,5.0,6.0]])\n",
    "b"
   ]
  },
  {
   "cell_type": "code",
   "execution_count": 6,
   "id": "4fba0480",
   "metadata": {},
   "outputs": [
    {
     "name": "stdout",
     "output_type": "stream",
     "text": [
      "dimension of array b is 2\n",
      "shape of b is (2, 3)\n",
      "size of array b is 6\n",
      "dtype float64\n",
      "itemsize of b is 8 bytes\n",
      "nbytes 48 bytes\n"
     ]
    }
   ],
   "source": [
    "# Some core attributes\n",
    "print(\"dimension of array b is\",b.ndim) # number of dimensions\n",
    "print(\"shape of b is\", b.shape) # Tuple of size per dimension\n",
    "print(\"size of array b is\", b.size) # Total number of elements\n",
    "print(\"dtype\", b.dtype) # Datatype of the elements\n",
    "print(\"itemsize of b is\", b.itemsize , \"bytes\") # Size per element\n",
    "print(\"nbytes\", b.nbytes, \"bytes\") # Total memory (is same as b.size * b.itemsize)\n",
    " \n"
   ]
  },
  {
   "cell_type": "code",
   "execution_count": 7,
   "id": "b6a8de83",
   "metadata": {},
   "outputs": [
    {
     "name": "stdout",
     "output_type": "stream",
     "text": [
      "itemsize of a 8\n",
      "itemsize of c 2\n"
     ]
    }
   ],
   "source": [
    "print(\"itemsize of a\", a.itemsize)\n",
    "print(\"itemsize of c\", c.itemsize)"
   ]
  },
  {
   "cell_type": "code",
   "execution_count": 8,
   "id": "f7e8e7e6",
   "metadata": {},
   "outputs": [
    {
     "data": {
      "text/plain": [
       "array([[ 1,  2,  3,  4,  5,  6,  7],\n",
       "       [ 8,  9, 10, 11, 12, 13, 14]])"
      ]
     },
     "execution_count": 8,
     "metadata": {},
     "output_type": "execute_result"
    }
   ],
   "source": [
    "x = np.array([[1,2,3,4,5,6,7],[8,9,10,11,12,13,14]])\n",
    "x"
   ]
  },
  {
   "cell_type": "code",
   "execution_count": 9,
   "id": "2fcb9a69",
   "metadata": {},
   "outputs": [
    {
     "name": "stdout",
     "output_type": "stream",
     "text": [
      "12\n",
      "12\n"
     ]
    }
   ],
   "source": [
    "# To get a specific element [x,y]\n",
    "print(x[1,4])\n",
    "print(x[1,-3])"
   ]
  },
  {
   "cell_type": "code",
   "execution_count": 10,
   "id": "f849efff",
   "metadata": {},
   "outputs": [
    {
     "name": "stdout",
     "output_type": "stream",
     "text": [
      "[1 2 3 4 5 6 7]\n",
      "[1 8]\n"
     ]
    }
   ],
   "source": [
    "print(x[0, :]) # To get a specific row\n",
    "print(x[:,0]) # To get a specific column\n"
   ]
  },
  {
   "cell_type": "code",
   "execution_count": 11,
   "id": "d4988fab",
   "metadata": {},
   "outputs": [
    {
     "name": "stdout",
     "output_type": "stream",
     "text": [
      "[2 4 6]\n",
      "[2 4 6]\n"
     ]
    }
   ],
   "source": [
    "# To get [ row, startindex: endindex: stepsize]\n",
    "print(x[0,1:6:2])\n",
    "print(x[0,1:-1:2])"
   ]
  },
  {
   "cell_type": "code",
   "execution_count": 12,
   "id": "fdbf2816",
   "metadata": {},
   "outputs": [
    {
     "name": "stdout",
     "output_type": "stream",
     "text": [
      "[[ 1  2  3  4  5  6  7]\n",
      " [ 8  9 10 11 12 15 14]]\n",
      "[[ 1  2  1  4  5  6  7]\n",
      " [ 8  9  2 11 12 15 14]]\n"
     ]
    }
   ],
   "source": [
    "x[1,5] = 15\n",
    "print(x)\n",
    "\n",
    "x[:,2] = [1,2]\n",
    "print(x)\n"
   ]
  },
  {
   "cell_type": "code",
   "execution_count": 13,
   "id": "ddac624b",
   "metadata": {},
   "outputs": [
    {
     "data": {
      "text/plain": [
       "array([[[1, 2],\n",
       "        [3, 4]],\n",
       "\n",
       "       [[5, 6],\n",
       "        [7, 8]]])"
      ]
     },
     "execution_count": 13,
     "metadata": {},
     "output_type": "execute_result"
    }
   ],
   "source": [
    "# In 3D\n",
    "y = np.array([[[1,2],[3,4]],[[5,6],[7,8]]])\n",
    "y\n"
   ]
  },
  {
   "cell_type": "code",
   "execution_count": 14,
   "id": "34c90d9a",
   "metadata": {},
   "outputs": [
    {
     "name": "stdout",
     "output_type": "stream",
     "text": [
      "4\n",
      "[[3 4]\n",
      " [7 8]]\n"
     ]
    }
   ],
   "source": [
    "# To get a specific element (Work outside in)\n",
    "print(y[0,1,1])\n",
    "print(y[:,1,:]) # To get elements in index 1 of both"
   ]
  },
  {
   "cell_type": "code",
   "execution_count": 15,
   "id": "4fe17014",
   "metadata": {},
   "outputs": [
    {
     "data": {
      "text/plain": [
       "array([[[1, 2],\n",
       "        [9, 9]],\n",
       "\n",
       "       [[5, 6],\n",
       "        [8, 8]]])"
      ]
     },
     "execution_count": 15,
     "metadata": {},
     "output_type": "execute_result"
    }
   ],
   "source": [
    "# To replace\n",
    "y[:,1,:] = [[9,9],[8,8]]\n",
    "y"
   ]
  },
  {
   "cell_type": "markdown",
   "id": "5b47ad59",
   "metadata": {},
   "source": [
    "Initializing different types of arrays"
   ]
  },
  {
   "cell_type": "code",
   "execution_count": 16,
   "id": "05685f4f",
   "metadata": {},
   "outputs": [
    {
     "name": "stdout",
     "output_type": "stream",
     "text": [
      "[[0. 0. 0.]\n",
      " [0. 0. 0.]]\n",
      "[[1. 1. 1.]\n",
      " [1. 1. 1.]]\n",
      "[[2 2]\n",
      " [2 2]]\n"
     ]
    }
   ],
   "source": [
    "# some pre built arrays - can be done on any dimension\n",
    "zero = np.zeros((2,3)) \n",
    "one = np.ones((2,3)) # we can write np.ones((2,3), dtype = 'int16')\n",
    "full = np.full((2,2),fill_value=2) # can be written in short as np.full((2,2),2)\n",
    "print(zero)\n",
    "print(one)\n",
    "print(full)"
   ]
  },
  {
   "cell_type": "code",
   "execution_count": 17,
   "id": "d7cb6e52",
   "metadata": {},
   "outputs": [
    {
     "name": "stdout",
     "output_type": "stream",
     "text": [
      "[4 4]\n",
      "[[1. 0. 0.]\n",
      " [0. 1. 0.]\n",
      " [0. 0. 1.]]\n"
     ]
    }
   ],
   "source": [
    "# Any other number (full_like)\n",
    "print(np.full_like(x.shape, 4))\n",
    "# Identity Matrix\n",
    "print(np.eye(3)) # or np.identity(3)"
   ]
  },
  {
   "cell_type": "code",
   "execution_count": 18,
   "id": "7720e001",
   "metadata": {},
   "outputs": [
    {
     "data": {
      "text/plain": [
       "array([0, 3, 6, 9])"
      ]
     },
     "execution_count": 18,
     "metadata": {},
     "output_type": "execute_result"
    }
   ],
   "source": [
    "ar = np.arange(0,10, step=3)\n",
    "ar"
   ]
  },
  {
   "cell_type": "code",
   "execution_count": 19,
   "id": "a0a25229",
   "metadata": {},
   "outputs": [
    {
     "data": {
      "text/plain": [
       "array([0. , 0.5, 1. ])"
      ]
     },
     "execution_count": 19,
     "metadata": {},
     "output_type": "execute_result"
    }
   ],
   "source": [
    "# Generate equally‑spaced samples between given start and stop value.Also includes both endpoints by default.\n",
    "ls = np.linspace(0,1,num=3) \n",
    "ls"
   ]
  },
  {
   "cell_type": "code",
   "execution_count": 20,
   "id": "e7c82842",
   "metadata": {},
   "outputs": [
    {
     "name": "stdout",
     "output_type": "stream",
     "text": [
      "[[0.28342082 0.52787438]\n",
      " [0.92719838 0.27742925]\n",
      " [0.28802771 0.99597816]\n",
      " [0.70275989 0.94056955]]\n",
      "[[-0.73137347  1.45016749]\n",
      " [ 0.17164157 -0.56040195]\n",
      " [ 0.46906461 -0.55079972]\n",
      " [-0.18010894 -2.34131365]]\n"
     ]
    }
   ],
   "source": [
    "# For random decimal numbers\n",
    "print(np.random.rand(4,2)) # its not np.random.rand((4,2))\n",
    "print(np.random.randn(4,2)) # For random normal numbers"
   ]
  },
  {
   "cell_type": "code",
   "execution_count": 21,
   "id": "a810a8df",
   "metadata": {},
   "outputs": [
    {
     "name": "stdout",
     "output_type": "stream",
     "text": [
      "x [[0.96776019 0.08179631 0.57253622 0.24336416 0.06353799 0.05782499\n",
      "  0.9321633 ]\n",
      " [0.28083986 0.09972951 0.27779343 0.86465333 0.7447986  0.88966511\n",
      "  0.14706308]]\n",
      "a [0.99612071 0.06848498 0.86487097]\n"
     ]
    }
   ],
   "source": [
    "print(\"x\",np.random.random_sample(x.shape)) # with shape as well\n",
    "print(\"a\",np.random.random_sample(a.shape)) # with shape as well"
   ]
  },
  {
   "cell_type": "code",
   "execution_count": 22,
   "id": "a85b077d",
   "metadata": {},
   "outputs": [
    {
     "data": {
      "text/plain": [
       "array([[-2, -1],\n",
       "       [ 2, -2]], dtype=int32)"
      ]
     },
     "execution_count": 22,
     "metadata": {},
     "output_type": "execute_result"
    }
   ],
   "source": [
    "# For Random Integer Values\n",
    "np.random.randint(-2,4,size = (2,2)) # between -2 and 4 exclusive"
   ]
  },
  {
   "cell_type": "code",
   "execution_count": 23,
   "id": "adeac15e",
   "metadata": {},
   "outputs": [
    {
     "name": "stdout",
     "output_type": "stream",
     "text": [
      "[1 1 1 2 2 2 3 3 3]\n",
      "[[1 2 3]\n",
      " [1 2 3]\n",
      " [1 2 3]]\n",
      "[[1 1 1 2 2 2 3 3 3]]\n"
     ]
    }
   ],
   "source": [
    "# To repeat elements in an array\n",
    "arr1D = np.array([1,2,3])\n",
    "r1D = np.repeat(arr1D,3)\n",
    "print(r1D)\n",
    "\n",
    "arr2D = np.array([[1,2,3]])\n",
    "r2D_0 = np.repeat(arr2D,3,axis=0)\n",
    "r2D_1 = np.repeat(arr2D,3,axis=1)\n",
    "print(r2D_0)\n",
    "print(r2D_1)\n"
   ]
  },
  {
   "cell_type": "code",
   "execution_count": 24,
   "id": "b28ba036",
   "metadata": {},
   "outputs": [
    {
     "name": "stdout",
     "output_type": "stream",
     "text": [
      "[[1. 1. 1. 1. 1.]\n",
      " [1. 1. 1. 1. 1.]\n",
      " [1. 1. 1. 1. 1.]\n",
      " [1. 1. 1. 1. 1.]\n",
      " [1. 1. 1. 1. 1.]]\n",
      "[[0. 0. 0.]\n",
      " [0. 9. 0.]\n",
      " [0. 0. 0.]]\n",
      "[[1. 1. 1. 1. 1.]\n",
      " [1. 0. 0. 0. 1.]\n",
      " [1. 0. 9. 0. 1.]\n",
      " [1. 0. 0. 0. 1.]\n",
      " [1. 1. 1. 1. 1.]]\n"
     ]
    }
   ],
   "source": [
    "# Trying a 5 * 5 Matrix\n",
    "output = np.ones((5,5))\n",
    "print(output)\n",
    "\n",
    "z = np.zeros((3,3))\n",
    "z[1,1] = 9\n",
    "print(z)\n",
    "\n",
    "output[1:4,1:4] = z # same as output[1:-1,1:-1] \n",
    "print(output)        # 1,-1 -> starts at index 1 and goes upto last row # 1,4 takes columns 1,2,3"
   ]
  },
  {
   "cell_type": "markdown",
   "id": "9f679c67",
   "metadata": {},
   "source": [
    "Copying Arrays"
   ]
  },
  {
   "cell_type": "code",
   "execution_count": 25,
   "id": "cecdf302",
   "metadata": {},
   "outputs": [
    {
     "name": "stdout",
     "output_type": "stream",
     "text": [
      "[100   2   3]\n",
      "[1 2 3]\n"
     ]
    }
   ],
   "source": [
    "# if .copy() is not used any changes made in f will be refleced in g as well\n",
    "g = np.array([1,2,3])\n",
    "f = g.copy()\n",
    "f[0] = 100\n",
    "print(f)\n",
    "print(g)"
   ]
  },
  {
   "cell_type": "markdown",
   "id": "5627bbc0",
   "metadata": {},
   "source": [
    "Maths"
   ]
  },
  {
   "cell_type": "code",
   "execution_count": 26,
   "id": "9fdc2405",
   "metadata": {},
   "outputs": [
    {
     "name": "stdout",
     "output_type": "stream",
     "text": [
      "[1 2 3 4]\n",
      "[3 4 5 6]\n",
      "[5 6 7 8]\n",
      "[25 36 49 64]\n",
      "[-0.95892427 -0.2794155   0.6569866   0.98935825]\n"
     ]
    }
   ],
   "source": [
    "h = np.array([1,2,3,4])\n",
    "i = h + 2 # can do - , * , /\n",
    "print(h)\n",
    "print(i)\n",
    "h+=4\n",
    "print(h)\n",
    "print(h**2)\n",
    "print(np.sin(h))\n",
    "# can perfrom the above functions between two arrays as well"
   ]
  },
  {
   "cell_type": "code",
   "execution_count": 27,
   "id": "f2c733a3",
   "metadata": {},
   "outputs": [
    {
     "name": "stdout",
     "output_type": "stream",
     "text": [
      "[5 7 9] [5 7 9]\n",
      "[ 2.71828183  7.3890561  20.08553692] [2.         2.23606798 2.44948974]\n",
      "-51.14350853360612 -0.05114350853360612 -3.1071219227515914 2.6816790578501295\n",
      "[0.92236834 2.28890907 3.23026865 1.27994707 0.65635796]\n"
     ]
    }
   ],
   "source": [
    "# Element‑wise\n",
    "A = np.array([1,2,3])\n",
    "B = np.array([4,5,6])\n",
    "print(np.add(A, B), A + B)\n",
    "\n",
    "# Scalar‑array\n",
    "print(np.exp(A), np.sqrt(B))\n",
    "\n",
    "# Reductions\n",
    "data = np.random.randn(1000)\n",
    "print(data.sum(), data.mean(), data.min(), data.max())\n",
    "print(data.cumsum()[:5])  # running total"
   ]
  },
  {
   "cell_type": "code",
   "execution_count": 28,
   "id": "8f51c2a1",
   "metadata": {},
   "outputs": [
    {
     "name": "stdout",
     "output_type": "stream",
     "text": [
      "[[1. 1. 1.]\n",
      " [1. 1. 1.]]\n",
      "[[2 2]\n",
      " [2 2]\n",
      " [2 2]]\n"
     ]
    },
    {
     "data": {
      "text/plain": [
       "array([[6., 6.],\n",
       "       [6., 6.]])"
      ]
     },
     "execution_count": 28,
     "metadata": {},
     "output_type": "execute_result"
    }
   ],
   "source": [
    "u = np.ones((2,3))\n",
    "print(u)\n",
    "\n",
    "v = np.full((3,2),2)\n",
    "print(v)\n",
    "\n",
    "np.matmul(u,v)\n"
   ]
  },
  {
   "cell_type": "code",
   "execution_count": 29,
   "id": "404a008b",
   "metadata": {},
   "outputs": [
    {
     "data": {
      "text/plain": [
       "np.float64(1.0)"
      ]
     },
     "execution_count": 29,
     "metadata": {},
     "output_type": "execute_result"
    }
   ],
   "source": [
    "# To find determinant\n",
    "w = np.identity(3)\n",
    "np.linalg.det(w)\n"
   ]
  },
  {
   "cell_type": "code",
   "execution_count": 30,
   "id": "f5886f86",
   "metadata": {},
   "outputs": [],
   "source": [
    "tr    = np.trace(w)                 #  Trace entries\n",
    "U, S, Vt = np.linalg.svd(w)         # Singular Value Decomposition\n",
    "eigvals, eigvecs = np.linalg.eig(w) # Eigenvalues & Eigenvectors\n",
    "normF = np.linalg.norm(w)           # Frobenius Norm\n",
    "invA  = np.linalg.inv(w)            # Inverse"
   ]
  },
  {
   "cell_type": "code",
   "execution_count": 31,
   "id": "31e6d6d6",
   "metadata": {},
   "outputs": [],
   "source": [
    "# Data type & Casting\n",
    "float_arr = np.array([1.1, 2.2, 3.3], dtype=np.float32)\n",
    "int_arr   = float_arr.astype(np.int64)  # explicit cast"
   ]
  },
  {
   "cell_type": "code",
   "execution_count": 32,
   "id": "3197e4d9",
   "metadata": {},
   "outputs": [
    {
     "data": {
      "text/plain": [
       "array([[1, 2, 3],\n",
       "       [4, 5, 6]])"
      ]
     },
     "execution_count": 32,
     "metadata": {},
     "output_type": "execute_result"
    }
   ],
   "source": [
    "stats = np.array([[1,2,3],[4,5,6]])\n",
    "stats"
   ]
  },
  {
   "cell_type": "code",
   "execution_count": 33,
   "id": "0159b74c",
   "metadata": {},
   "outputs": [
    {
     "name": "stdout",
     "output_type": "stream",
     "text": [
      "6\n",
      "[1 2 3]\n",
      "[1 4]\n",
      "[ 6 15]\n",
      "[5 7 9]\n"
     ]
    }
   ],
   "source": [
    "print(np.max(stats))\n",
    "print(np.min(stats, axis = 0))\n",
    "print(np.min(stats, axis = 1))\n",
    "print(np.sum(stats, axis = 1))\n",
    "print(np.sum(stats, axis = 0))"
   ]
  },
  {
   "cell_type": "markdown",
   "id": "93e32255",
   "metadata": {},
   "source": [
    "Reorganizing Arrays     "
   ]
  },
  {
   "cell_type": "code",
   "execution_count": 34,
   "id": "6fe1a8b4",
   "metadata": {},
   "outputs": [
    {
     "name": "stdout",
     "output_type": "stream",
     "text": [
      "[[[1 2]\n",
      "  [3 4]]\n",
      "\n",
      " [[5 6]\n",
      "  [7 8]]]\n"
     ]
    }
   ],
   "source": [
    "before = np.array([[1,2,3,4],[5,6,7,8]])\n",
    "after = before.reshape((2,2,2))\n",
    "print(after)"
   ]
  },
  {
   "cell_type": "code",
   "execution_count": 35,
   "id": "74a097a7",
   "metadata": {},
   "outputs": [
    {
     "name": "stdout",
     "output_type": "stream",
     "text": [
      "[[1 2 3 4]\n",
      " [5 6 7 8]\n",
      " [1 2 3 4]\n",
      " [5 6 7 8]]\n",
      "[1 2 3 4 5 6 7 8]\n"
     ]
    }
   ],
   "source": [
    "# Vertically stacking vectors/ matrices\n",
    "v1 = np.array([1,2,3,4])\n",
    "v2 = np.array([5,6,7,8])\n",
    "\n",
    "print(np.vstack([v1,v2,v1,v2]))\n",
    "\n",
    "# Horizontal Stack\n",
    "\n",
    "print(np.hstack([v1,v2]))"
   ]
  },
  {
   "cell_type": "markdown",
   "id": "7e72418b",
   "metadata": {},
   "source": [
    "Loading Data From file  "
   ]
  },
  {
   "cell_type": "code",
   "execution_count": 36,
   "id": "081389d8",
   "metadata": {},
   "outputs": [
    {
     "data": {
      "text/plain": [
       "array([[102., 179.,  92.,  14., 106., 145., 132.,  19., 164.,  25., 106.,\n",
       "        123., 136., 101.,  68., 125., 107.,  47.],\n",
       "       [308., 343., 491., 413., 385., 505., 325., 533., 501., 207., 315.,\n",
       "        377., 304., 261., 436., 231., 556., 657.]])"
      ]
     },
     "execution_count": 36,
     "metadata": {},
     "output_type": "execute_result"
    }
   ],
   "source": [
    "# 'file.txt' should contain rows of numbers separated by commas.\n",
    "# genfromtxt returns a float array by default, using NaN for missing values.\n",
    "data = np.genfromtxt(r\"C:\\Users\\MSP\\Downloads\\file.txt\", delimiter=',')\n",
    "data\n",
    "\n"
   ]
  },
  {
   "cell_type": "code",
   "execution_count": 37,
   "id": "a937a24e",
   "metadata": {},
   "outputs": [
    {
     "data": {
      "text/plain": [
       "array([[102, 179,  92,  14, 106, 145, 132,  19, 164,  25, 106, 123, 136,\n",
       "        101,  68, 125, 107,  47],\n",
       "       [308, 343, 491, 413, 385, 505, 325, 533, 501, 207, 315, 377, 304,\n",
       "        261, 436, 231, 556, 657]], dtype=int32)"
      ]
     },
     "execution_count": 37,
     "metadata": {},
     "output_type": "execute_result"
    }
   ],
   "source": [
    "# astype('int32') returns a new array with dtype int32.\n",
    "# Note: this does NOT modify `data` in place; you need to assign it if you want to keep it.\n",
    "\n",
    "data.astype('int32')"
   ]
  },
  {
   "cell_type": "markdown",
   "id": "87af7786",
   "metadata": {},
   "source": [
    "Boolean Masking and Advanced indexing"
   ]
  },
  {
   "cell_type": "code",
   "execution_count": 38,
   "id": "eaa715ee",
   "metadata": {},
   "outputs": [
    {
     "data": {
      "text/plain": [
       "array([[ True,  True,  True, False,  True,  True,  True, False,  True,\n",
       "        False,  True,  True,  True,  True,  True,  True,  True, False],\n",
       "       [ True,  True,  True,  True,  True,  True,  True,  True,  True,\n",
       "         True,  True,  True,  True,  True,  True,  True,  True,  True]])"
      ]
     },
     "execution_count": 38,
     "metadata": {},
     "output_type": "execute_result"
    }
   ],
   "source": [
    "data > 50"
   ]
  },
  {
   "cell_type": "code",
   "execution_count": 39,
   "id": "5b6ad3b8",
   "metadata": {},
   "outputs": [
    {
     "data": {
      "text/plain": [
       "array([102., 179.,  92., 106., 145., 132., 164., 106., 123., 136., 101.,\n",
       "        68., 125., 107., 308., 343., 491., 413., 385., 505., 325., 533.,\n",
       "       501., 207., 315., 377., 304., 261., 436., 231., 556., 657.])"
      ]
     },
     "execution_count": 39,
     "metadata": {},
     "output_type": "execute_result"
    }
   ],
   "source": [
    "data[data > 50]"
   ]
  },
  {
   "cell_type": "code",
   "execution_count": 40,
   "id": "d649ee05",
   "metadata": {},
   "outputs": [
    {
     "data": {
      "text/plain": [
       "array([2, 3, 9])"
      ]
     },
     "execution_count": 40,
     "metadata": {},
     "output_type": "execute_result"
    }
   ],
   "source": [
    "# we can index with a list in numpy\n",
    "ap = np.array([1,2,3,4,5,6,7,8,9])\n",
    "ap[[1,2,8]]\n"
   ]
  },
  {
   "cell_type": "code",
   "execution_count": 41,
   "id": "f6411ab5",
   "metadata": {},
   "outputs": [
    {
     "data": {
      "text/plain": [
       "array([ True,  True,  True,  True,  True,  True,  True,  True,  True,\n",
       "        True,  True,  True,  True,  True,  True,  True,  True,  True])"
      ]
     },
     "execution_count": 41,
     "metadata": {},
     "output_type": "execute_result"
    }
   ],
   "source": [
    "np.any(data > 50, axis = 0)"
   ]
  },
  {
   "cell_type": "code",
   "execution_count": 42,
   "id": "e0d7f4bd",
   "metadata": {},
   "outputs": [
    {
     "data": {
      "text/plain": [
       "array([ True,  True,  True, False,  True,  True,  True, False,  True,\n",
       "       False,  True,  True,  True,  True,  True,  True,  True, False])"
      ]
     },
     "execution_count": 42,
     "metadata": {},
     "output_type": "execute_result"
    }
   ],
   "source": [
    "np.all(data > 50, axis = 0)"
   ]
  },
  {
   "cell_type": "code",
   "execution_count": 43,
   "id": "a96b7335",
   "metadata": {},
   "outputs": [
    {
     "data": {
      "text/plain": [
       "array([ True,  True])"
      ]
     },
     "execution_count": 43,
     "metadata": {},
     "output_type": "execute_result"
    }
   ],
   "source": [
    "np.any(data > 50, axis = 1)"
   ]
  },
  {
   "cell_type": "code",
   "execution_count": 44,
   "id": "af181cc4",
   "metadata": {},
   "outputs": [
    {
     "data": {
      "text/plain": [
       "array([[False, False,  True, False, False, False, False, False, False,\n",
       "        False, False, False, False, False,  True, False, False, False],\n",
       "       [False, False, False, False, False, False, False, False, False,\n",
       "        False, False, False, False, False, False, False, False, False]])"
      ]
     },
     "execution_count": 44,
     "metadata": {},
     "output_type": "execute_result"
    }
   ],
   "source": [
    "((data>50)&(data<100))\n",
    "# ~ is not -> (~(data>50)&(data<100)) gives the opposite of the above values"
   ]
  },
  {
   "cell_type": "code",
   "execution_count": 45,
   "id": "1ffa6452",
   "metadata": {},
   "outputs": [
    {
     "name": "stdout",
     "output_type": "stream",
     "text": [
      "[[ 0  1  2  3]\n",
      " [ 4  5  6  7]\n",
      " [ 8  9 10 11]]\n",
      "[ 0  2  4  6  8 10]\n",
      "[ 1 11]\n"
     ]
    }
   ],
   "source": [
    "M = np.arange(12).reshape(3, 4)\n",
    "print(M)\n",
    "\n",
    "# Boolean indexing\n",
    "mask = M % 2 == 0\n",
    "evens = M[mask]\n",
    "print(evens)\n",
    "\n",
    "# Fancy indexing\n",
    "idx = [0, 2]             # pick rows 0 & 2\n",
    "sel = M[idx, [1, 3]]     # elements (0,1) and (2,3)\n",
    "print(sel)"
   ]
  },
  {
   "cell_type": "code",
   "execution_count": 46,
   "id": "7f000283",
   "metadata": {},
   "outputs": [
    {
     "name": "stdout",
     "output_type": "stream",
     "text": [
      "[0 1 2 3 4 5]\n",
      "[[0 1 2]\n",
      " [3 4 5]]\n",
      "[0 1 2 3 4 5]\n",
      "[[0 1 2]\n",
      " [3 4 5]]\n"
     ]
    }
   ],
   "source": [
    "V = np.arange(6)             \n",
    "W = V.reshape((2,3))         \n",
    "flat = W.ravel()             # flatten w into 1D shape\n",
    "copy = W.copy()              # new array , own data\n",
    "print(V)\n",
    "print(W)\n",
    "print(flat)\n",
    "print(copy)\n"
   ]
  },
  {
   "cell_type": "code",
   "execution_count": null,
   "id": "467b3394",
   "metadata": {},
   "outputs": [
    {
     "name": "stdout",
     "output_type": "stream",
     "text": [
      "mat [[1. 1. 1.]\n",
      " [1. 1. 1.]\n",
      " [1. 1. 1.]\n",
      " [1. 1. 1.]]\n",
      "vec [1 2 3]\n",
      "sum [[2. 3. 4.]\n",
      " [2. 3. 4.]\n",
      " [2. 3. 4.]\n",
      " [2. 3. 4.]]\n"
     ]
    }
   ],
   "source": [
    "mat = np.ones((4,3))\n",
    "vec = np.array([1,2,3])    \n",
    "print(\"mat\",mat)\n",
    "print(\"vec\",vec)\n",
    "print(\"sum\",mat+vec)                   # vec broadcast to each of 4 rows\n"
   ]
  },
  {
   "cell_type": "markdown",
   "id": "18d17260",
   "metadata": {},
   "source": [
    "Vectorized ufuncs in NumPy are “universal functions” that operate element‑wise on arrays entirely in C, so you get big speedups by avoiding Python‑level loops.\n",
    "C loops are orders of magnitude faster than Python for‑loops."
   ]
  },
  {
   "cell_type": "code",
   "execution_count": null,
   "id": "d4619e38",
   "metadata": {},
   "outputs": [],
   "source": [
    "x = np.random.rand(1_000_000)\n",
    "\n",
    "# Python loop version\n",
    "def sq_loop(x):\n",
    "    out = np.empty_like(x)\n",
    "    for i in range(x.size):\n",
    "        out[i] = x[i]**2\n",
    "    return out\n",
    "\n",
    "# Vectorized (ufunc) version\n",
    "def sq_vec(x):\n",
    "    return x**2\n"
   ]
  },
  {
   "cell_type": "code",
   "execution_count": null,
   "id": "e6a802cc",
   "metadata": {},
   "outputs": [
    {
     "name": "stdout",
     "output_type": "stream",
     "text": [
      "269 ms ± 18.4 ms per loop (mean ± std. dev. of 7 runs, 1 loop each)\n",
      "2.09 ms ± 41.3 μs per loop (mean ± std. dev. of 7 runs, 100 loops each)\n"
     ]
    }
   ],
   "source": [
    "%timeit sq_loop(x)   \n",
    "%timeit sq_vec(x)    "
   ]
  },
  {
   "cell_type": "markdown",
   "id": "13858db4",
   "metadata": {},
   "source": [
    "The .cumsum() method computes the cumulative sum of an array’s elements along a given axis."
   ]
  },
  {
   "cell_type": "code",
   "execution_count": 53,
   "id": "dc193e51",
   "metadata": {},
   "outputs": [
    {
     "data": {
      "text/plain": [
       "array([ 1, 21, 24, 64])"
      ]
     },
     "execution_count": 53,
     "metadata": {},
     "output_type": "execute_result"
    }
   ],
   "source": [
    "data = np.array([1,20,3,40])\n",
    "cumilative = data.cumsum()\n",
    "cumilative"
   ]
  },
  {
   "cell_type": "code",
   "execution_count": null,
   "id": "c871ac6e",
   "metadata": {},
   "outputs": [],
   "source": []
  }
 ],
 "metadata": {
  "kernelspec": {
   "display_name": "Python 3",
   "language": "python",
   "name": "python3"
  },
  "language_info": {
   "codemirror_mode": {
    "name": "ipython",
    "version": 3
   },
   "file_extension": ".py",
   "mimetype": "text/x-python",
   "name": "python",
   "nbconvert_exporter": "python",
   "pygments_lexer": "ipython3",
   "version": "3.10.0"
  }
 },
 "nbformat": 4,
 "nbformat_minor": 5
}
