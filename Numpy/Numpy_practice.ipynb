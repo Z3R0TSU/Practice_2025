{
 "cells": [
  {
   "cell_type": "code",
   "execution_count": 1,
   "id": "ca1f0c10",
   "metadata": {},
   "outputs": [],
   "source": [
    "import numpy as np"
   ]
  },
  {
   "cell_type": "code",
   "execution_count": 2,
   "id": "110fdf0e",
   "metadata": {},
   "outputs": [
    {
     "name": "stdout",
     "output_type": "stream",
     "text": [
      "[[ 0  1  2  3  4]\n",
      " [ 5  6  7  8  9]\n",
      " [10 11 12 13 14]\n",
      " [15 16 17 18 19]\n",
      " [20 21 22 23 24]]\n",
      "[0 1 2 3 4]\n",
      "[20 21 22 23 24]\n",
      "[ 5 10 15]\n",
      "[ 9 14 19]\n"
     ]
    }
   ],
   "source": [
    "# Create a 5×5 ndarray of 0–24. Extract its border (first/last rows & cols).\n",
    "arr = np.arange(25).reshape(5,5)\n",
    "print(arr)\n",
    "toprow = arr[0,:]\n",
    "bottomrow = arr[-1,:]\n",
    "firstcol = arr[1:-1,0]\n",
    "lastcol = arr[1:-1,-1]\n",
    "print(toprow)\n",
    "print(bottomrow)\n",
    "print(firstcol)\n",
    "print(lastcol)"
   ]
  },
  {
   "cell_type": "code",
   "execution_count": 3,
   "id": "9390ed60",
   "metadata": {},
   "outputs": [
    {
     "name": "stdout",
     "output_type": "stream",
     "text": [
      "0.5141434826483114\n",
      "0.08595552783994793\n",
      "0.5141434826483114\n",
      "0.08595552783994793\n"
     ]
    }
   ],
   "source": [
    "# For a 1D randn(1000), compute mean & variance without np.mean/var; verify results.\n",
    "random = np.random.rand(1000)\n",
    "np_mean = np.mean(random)\n",
    "np_var = np.var(random)\n",
    "mean = random.sum() / random.size\n",
    "variance = ((random - mean)**2).sum() / random.size\n",
    "print(np_mean)\n",
    "print(np_var)\n",
    "print(mean)\n",
    "print(variance)"
   ]
  },
  {
   "cell_type": "code",
   "execution_count": 4,
   "id": "2cbf3027",
   "metadata": {},
   "outputs": [
    {
     "name": "stdout",
     "output_type": "stream",
     "text": [
      "[[0.         1.         2.        ]\n",
      " [1.         0.         2.23606798]\n",
      " [2.         2.23606798 0.        ]]\n"
     ]
    }
   ],
   "source": [
    "# Compute pairwise Euclidean distances using vectorized broadcasting. \n",
    "import numpy as np\n",
    "\n",
    "def pairwise_euclidean(X):\n",
    "   \n",
    "    diff = X[:, None, :] - X[None, :, :]\n",
    "    D = np.sqrt((diff ** 2).sum(axis=-1))\n",
    "    return D\n",
    "\n",
    "X = np.array([[0,0],\n",
    "              [1,0],\n",
    "              [0,2]])\n",
    "# distances between (0,0),(1,0),(0,2)\n",
    "D = pairwise_euclidean(X)\n",
    "print(D)\n",
    "\n"
   ]
  },
  {
   "cell_type": "code",
   "execution_count": 5,
   "id": "0877ab47",
   "metadata": {},
   "outputs": [
    {
     "name": "stdout",
     "output_type": "stream",
     "text": [
      "Original:\n",
      " [[ 1  2  3]\n",
      " [10 20 30]\n",
      " [ 5  7  9]]\n",
      "\n",
      "Row means:\n",
      " [[ 2.]\n",
      " [20.]\n",
      " [ 7.]]\n",
      "\n",
      "Centered:\n",
      " [[ -1.   0.   1.]\n",
      " [-10.   0.  10.]\n",
      " [ -2.   0.   2.]]\n"
     ]
    }
   ],
   "source": [
    "# Center each row of a 3×3 array by subtracting its mean.\n",
    "\n",
    "A = np.array([[ 1,  2,  3], [10, 20, 30], [ 5,  7,  9]])\n",
    "row_means = A.mean(axis=1, keepdims=True)  # keepdims=True makes the result shape (3,1) instead of (3,).\n",
    "A_centered = A - row_means\n",
    "\n",
    "print(\"Original:\\n\", A)\n",
    "print(\"\\nRow means:\\n\", row_means)\n",
    "print(\"\\nCentered:\\n\", A_centered)\n"
   ]
  },
  {
   "cell_type": "code",
   "execution_count": 6,
   "id": "e9b93610",
   "metadata": {},
   "outputs": [
    {
     "name": "stdout",
     "output_type": "stream",
     "text": [
      "Original a:\n",
      " [[0 1 2]\n",
      " [3 4 5]]\n",
      "\n",
      "After modifying view[1] = 99:\n",
      "a:\n",
      " [[ 0 99  2]\n",
      " [ 3  4  5]]\n",
      "\n",
      "After modifying copy[1] = -1:\n",
      "b:\n",
      " [[0 1 2]\n",
      " [3 4 5]]\n"
     ]
    }
   ],
   "source": [
    "# To show modifying a slice can or cannot affect the original array.\n",
    "\n",
    "# 1. Create an array and take a slice (which is a VIEW, not a copy)\n",
    "a = np.arange(6).reshape(2, 3)\n",
    "print(\"Original a:\\n\", a)\n",
    "\n",
    "view = a[0, :]        # slice of the first row\n",
    "view[1] = 99          # modify the slice\n",
    "print(\"\\nAfter modifying view[1] = 99:\")\n",
    "print(\"a:\\n\", a)\n",
    "\n",
    "\n",
    "# 2. Take a copy explicitly\n",
    "b = np.arange(6).reshape(2, 3)\n",
    "copy = b[0, :].copy()  # this is a deep copy\n",
    "copy[1] = -1            # modify the copy\n",
    "print(\"\\nAfter modifying copy[1] = -1:\")\n",
    "print(\"b:\\n\", b)\n",
    "\n"
   ]
  }
 ],
 "metadata": {
  "kernelspec": {
   "display_name": "Python 3",
   "language": "python",
   "name": "python3"
  },
  "language_info": {
   "codemirror_mode": {
    "name": "ipython",
    "version": 3
   },
   "file_extension": ".py",
   "mimetype": "text/x-python",
   "name": "python",
   "nbconvert_exporter": "python",
   "pygments_lexer": "ipython3",
   "version": "3.10.0"
  }
 },
 "nbformat": 4,
 "nbformat_minor": 5
}
